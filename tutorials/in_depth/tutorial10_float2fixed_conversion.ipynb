{
 "cells": [
  {
   "cell_type": "markdown",
   "id": "37432792",
   "metadata": {},
   "source": [
    "*Copyright (C) 2022 Intel Corporation*<br>\n",
    "*SPDX-License-Identifier: BSD-3-Clause*<br>\n",
    "*See: https://spdx.org/licenses/*\n",
    "\n",
    "---\n",
    "\n",
    "# Float2Fixed Converter\n",
    "\n",
    "_**Motivation**: In this tutorial, we will demonstrate usage of the Float2Fixed Converter for running a ProcessModels with finite precision in Lava._ \n",
    "\n",
    "#### This tutorial assumes that you:\n",
    "- have the [Lava framework installed](../../in_depth/tutorial01_installing_lava.ipynb \"Tutorial on Installing Lava\")\n",
    "- are familiar with the [Process concept in Lava](../../in_depth/tutorial02_processes.ipynb \"Tutorial on Processes\")\n",
    "- are familiar with the [ProcessModel concept in Lava](../../in_depth/tutorial02_process_models.ipynb \"Tutorial on ProcessModels\")\n",
    "- are familiar with how to [connect Lava Processes](../../in_depth/tutorial05_connect_processes.ipynb \"Tutorial on connecting Processes\")\n",
    "\n",
    "This tutorial is split into two parts:<br>\n",
    "First, we start with a short example of how to use `Float2FixedConverter`.<br>\n",
    "Then we will go through a fully-fledged example of the entire conversion pipeline including the data needed for the actual conversion. "
   ]
  },
  {
   "cell_type": "markdown",
   "id": "3fd2e67f",
   "metadata": {},
   "source": [
    "## Quick introduction"
   ]
  },
  {
   "cell_type": "code",
   "execution_count": 1,
   "id": "4e6e4890",
   "metadata": {},
   "outputs": [],
   "source": [
    "# General imports.\n",
    "import numpy as np\n",
    "from matplotlib import pyplot as plt\n",
    "\n",
    "# Imports for running the Processes in Lava.\n",
    "from lava.magma.core.run_conditions import RunSteps\n",
    "from lava.magma.core.run_configs import Loihi1SimCfg\n",
    "\n",
    "# Import Processes.\n",
    "from lava.proc.dense.process import Dense\n",
    "from lava.proc.lif.process import LIF\n",
    "from lava.proc.monitor.process import Monitor\n",
    "\n",
    "from lava.utils.float2fixed import Float2FixedConverter"
   ]
  },
  {
   "cell_type": "markdown",
   "id": "53418ffc",
   "metadata": {},
   "source": [
    "We set up a simple model of forwardly connected LIF - Dense - LIF processes."
   ]
  },
  {
   "cell_type": "code",
   "execution_count": 2,
   "id": "e4bfb154",
   "metadata": {},
   "outputs": [],
   "source": [
    "# Define the parameters for the floating-point ProcessModels.\n",
    "lif_params = {\n",
    "    'shape': (1,),\n",
    "    'du': 0.1,\n",
    "    'dv': 0.1,\n",
    "    'bias_mant': 0.102,\n",
    "    'vth': 1,\n",
    "}\n",
    "\n",
    "weight = np.array([[0.1]])\n",
    "\n",
    "\n",
    "# Instantiate the Processes.\n",
    "lif_1 = LIF(**lif_params)\n",
    "lif_2 = LIF(**lif_params)\n",
    "dense = Dense(weights=weight)\n",
    "\n",
    "lif_1.s_out.connect(dense.s_in)\n",
    "dense.a_out.connect(lif_2.a_in)"
   ]
  },
  {
   "cell_type": "markdown",
   "id": "08a3a177",
   "metadata": {},
   "source": [
    "### Floating- to fixed-point conversion\n",
    "To use the Float2Fixed Point converter, we need to set a `run_config` for the selection of the floating-point as well as one for the fixed-point ProcessModel.<br>\n",
    "The former is used to run a floating-point version of the model to record the *range* of the dynamic variables.\n",
    "This will be used to determine the range of floating-point numbers that need to be represented with coarser precision. <br>\n",
    "The latter will be used to fetch implementational information about e.g. the precision of the variables in the Processes.<br>\n",
    "We pass the processes as well as the number of steps for which we execute the model to the converter."
   ]
  },
  {
   "cell_type": "code",
   "execution_count": 3,
   "id": "f25c14d8",
   "metadata": {},
   "outputs": [],
   "source": [
    "converter = Float2FixedConverter()\n",
    "converter.set_run_cfg(fixed_pt_rcfg=Loihi1SimCfg(select_tag='fixed_pt'),\n",
    "                      floating_pt_rcfg=Loihi1SimCfg())\n",
    "converter.convert([lif_1, lif_2, dense], num_steps=200)"
   ]
  },
  {
   "cell_type": "markdown",
   "id": "fb4cf16c",
   "metadata": {},
   "source": [
    "### Inspection of the scaled parameters\n",
    "After the conversion, the converter stores the parameters for the fixed-point ProcessModel in `converter.scaled_params` in a nested dictionary. <br>\n",
    "The outmost key of the dictionary is the Process ID of the converted Processes."
   ]
  },
  {
   "cell_type": "code",
   "execution_count": 4,
   "id": "a63fe08a",
   "metadata": {},
   "outputs": [
    {
     "data": {
      "text/plain": [
       "{0: {'bias_exp': 7,\n",
       "  'bias_mant': 4095,\n",
       "  'u': 0,\n",
       "  'vth': 80294,\n",
       "  'v': 0,\n",
       "  'du': 410,\n",
       "  'dv': 410},\n",
       " 1: {'bias_exp': 7,\n",
       "  'bias_mant': 4095,\n",
       "  'u': 0,\n",
       "  'vth': 80294,\n",
       "  'v': 0,\n",
       "  'du': 410,\n",
       "  'dv': 410},\n",
       " 2: {'num_message_bits': 0,\n",
       "  'weights': array([[125]]),\n",
       "  'weight_exp': 6,\n",
       "  'a_buff': 0}}"
      ]
     },
     "execution_count": 4,
     "metadata": {},
     "output_type": "execute_result"
    }
   ],
   "source": [
    "converter.scaled_params"
   ]
  },
  {
   "cell_type": "markdown",
   "id": "591d5b2f",
   "metadata": {},
   "source": [
    "To compare the values of the variables between floating- and fixed-point ProcessModels, we need to know the scaling factors with which the Variables were scaled. <br>\n",
    "These scaling factors needed for the scaling are stored in `converter.scaling_factors` in a nested dictionary. The keys are the identifier of the *scale domains* of the model.<br>\n",
    "A *scale domain* is a collection of variables that are scaled with the same scaling factor. This means that these variables interact without any mediation by non-configurable constants on an identical numerical range. <br>\n",
    "The identifier $0$ is special here, since it identifies the **global** *scale domain* shared across processes. All other scale domains, albeit having the same identifier, are local to a Process identified by its ID. <br>"
   ]
  },
  {
   "cell_type": "code",
   "execution_count": 5,
   "id": "cc87a083",
   "metadata": {},
   "outputs": [
    {
     "data": {
      "text/plain": [
       "{0: 5138823.529411765, 1: {1: 4095.0, 0: 4095.0}}"
      ]
     },
     "execution_count": 5,
     "metadata": {},
     "output_type": "execute_result"
    }
   ],
   "source": [
    "converter.scaling_factors"
   ]
  },
  {
   "cell_type": "markdown",
   "id": "e1e026a3",
   "metadata": {},
   "source": [
    "In our case, there are few local variables, and we use the inverse scaling function of the global *scale domain*."
   ]
  },
  {
   "cell_type": "code",
   "execution_count": 6,
   "id": "c3489d48",
   "metadata": {},
   "outputs": [],
   "source": [
    "inv_scaling_fct = lambda x : x / converter.scaling_factors[0]"
   ]
  },
  {
   "cell_type": "code",
   "execution_count": 7,
   "id": "bfc68504",
   "metadata": {},
   "outputs": [],
   "source": [
    "run_cfg_fixed = Loihi1SimCfg(select_tag='fixed_pt')\n",
    "run_cfg = Loihi1SimCfg()\n",
    "run_cond = RunSteps(num_steps=200)"
   ]
  },
  {
   "cell_type": "markdown",
   "id": "88044c5a",
   "metadata": {},
   "source": [
    "Next, we set up the two implementations (floating- and fixed-point) of our model with the original as well as converted parameters and execute them."
   ]
  },
  {
   "cell_type": "code",
   "execution_count": 8,
   "id": "b51c5437",
   "metadata": {},
   "outputs": [],
   "source": [
    "lif_1_fixed = LIF(**converter.scaled_params[lif_1.id], shape=(1,))\n",
    "lif_2_fixed = LIF(**converter.scaled_params[lif_2.id], shape=(1,))\n",
    "dense_fixed = Dense(**converter.scaled_params[dense.id])\n",
    "\n",
    "monitor_1_fixed_u = Monitor()\n",
    "monitor_1_fixed_v = Monitor()\n",
    "monitor_2_fixed_u = Monitor()\n",
    "monitor_2_fixed_v = Monitor()\n",
    "\n",
    "monitor_1_fixed_u.probe(target=lif_1_fixed.u, num_steps=200)\n",
    "monitor_1_fixed_v.probe(target=lif_1_fixed.v, num_steps=200)\n",
    "monitor_2_fixed_u.probe(target=lif_2_fixed.u, num_steps=200)\n",
    "monitor_2_fixed_v.probe(target=lif_2_fixed.v, num_steps=200)\n",
    "\n",
    "lif_1_fixed.s_out.connect(dense_fixed.s_in)\n",
    "dense_fixed.a_out.connect(lif_2_fixed.a_in)\n",
    "\n",
    "lif_1_fixed.run(condition=run_cond, run_cfg=run_cfg_fixed)\n",
    "\n",
    "data_1_fixed_u = monitor_1_fixed_u.get_data()[lif_1_fixed.name][lif_1_fixed.u.name]\n",
    "data_1_fixed_v = monitor_1_fixed_v.get_data()[lif_1_fixed.name][lif_1_fixed.v.name]\n",
    "data_2_fixed_u = monitor_2_fixed_u.get_data()[lif_2_fixed.name][lif_2_fixed.u.name]\n",
    "data_2_fixed_v = monitor_2_fixed_v.get_data()[lif_2_fixed.name][lif_2_fixed.v.name]\n",
    "\n",
    "lif_1_fixed.stop()"
   ]
  },
  {
   "cell_type": "markdown",
   "id": "dd1ed766",
   "metadata": {},
   "source": [
    "And now for comparison the floating-point model with the original parameters."
   ]
  },
  {
   "cell_type": "code",
   "execution_count": 9,
   "id": "9f4b237a",
   "metadata": {},
   "outputs": [],
   "source": [
    "lif_1_float = LIF(**lif_params)\n",
    "lif_2_float = LIF(**lif_params)\n",
    "dense_float = Dense(weights=weight)\n",
    "\n",
    "monitor_1_float_u = Monitor()\n",
    "monitor_1_float_v = Monitor()\n",
    "monitor_2_float_u = Monitor()\n",
    "monitor_2_float_v = Monitor()\n",
    "\n",
    "monitor_1_float_u.probe(target=lif_1_float.u, num_steps=200)\n",
    "monitor_1_float_v.probe(target=lif_1_float.v, num_steps=200)\n",
    "monitor_2_float_u.probe(target=lif_2_float.u, num_steps=200)\n",
    "monitor_2_float_v.probe(target=lif_2_float.v, num_steps=200)\n",
    "\n",
    "lif_1_float.s_out.connect(dense_float.s_in)\n",
    "dense_float.a_out.connect(lif_2_float.a_in)\n",
    "\n",
    "lif_1_float.run(condition=run_cond, run_cfg=run_cfg)\n",
    "\n",
    "data_1_float_u = monitor_1_float_u.get_data()[lif_1_float.name][lif_1_float.u.name]\n",
    "data_1_float_v = monitor_1_float_v.get_data()[lif_1_float.name][lif_1_float.v.name]\n",
    "data_2_float_u = monitor_2_float_u.get_data()[lif_2_float.name][lif_2_float.u.name]\n",
    "data_2_float_v = monitor_2_float_v.get_data()[lif_2_float.name][lif_2_float.v.name]\n",
    "\n",
    "lif_1_float.stop()"
   ]
  },
  {
   "cell_type": "markdown",
   "id": "a8439fc7",
   "metadata": {},
   "source": [
    "Finally, we compare the two implementations defining the behavior. Note that we need to apply the inverse scaling to the data from the fixed point model."
   ]
  },
  {
   "cell_type": "code",
   "execution_count": 10,
   "id": "54f1dacd",
   "metadata": {},
   "outputs": [
    {
     "data": {
      "image/png": "[encoded data removed]",
      "text/plain": [
       "<Figure size 1080x360 with 4 Axes>"
      ]
     },
     "metadata": {
      "needs_background": "light"
     },
     "output_type": "display_data"
    }
   ],
   "source": [
    "f, (ax1, ax2) = plt.subplots(2, 2, figsize=(15,5))\n",
    "ax1[0].set_title('u')\n",
    "ax1[0].plot(data_1_float_u, label='floating pt')\n",
    "ax1[0].plot(inv_scaling_fct(data_1_float_u), label='fixed pt')\n",
    "ax1[0].plot()\n",
    "ax1[1].set_title('v')\n",
    "ax1[1].plot(data_1_float_v, label='floating pt')\n",
    "ax1[1].plot(inv_scaling_fct(data_1_fixed_v), label='fixed pt')\n",
    "ax2[0].plot(data_2_float_u, label='floating pt')\n",
    "ax2[0].plot(inv_scaling_fct(data_2_fixed_u), label='fixed pt')\n",
    "ax2[1].plot(data_2_float_v, label='floating_pt')\n",
    "ax2[1].plot(inv_scaling_fct(data_2_fixed_v), label='fixed_pt')\n",
    "plt.legend()\n",
    "plt.show()"
   ]
  },
  {
   "cell_type": "markdown",
   "id": "d0ccfc93",
   "metadata": {},
   "source": [
    "We see a good overlap between the floating- and fixed-point values of the Variables `u` and `v`. <br>\n",
    "Note, however, that with increasing model complexity and variation in dynamical variables, the correspondence gets worse."
   ]
  },
  {
   "cell_type": "markdown",
   "id": "db3477c7",
   "metadata": {},
   "source": [
    "## Full example\n",
    "In the following we will consider a full example of the floating- to fixed-point conversion in Lava.<br>\n",
    "This includes the definition of a Process as well as ProcessModel. The latter is used to store the relevant data for the conversion. <br>\n",
    "We start by defining a LIF Process ..."
   ]
  },
  {
   "cell_type": "code",
   "execution_count": 11,
   "id": "82a4713b",
   "metadata": {},
   "outputs": [],
   "source": [
    "from lava.magma.core.process.process import AbstractProcess\n",
    "from lava.magma.core.process.variable import Var\n",
    "from lava.magma.core.process.ports.ports import InPort, OutPort\n",
    "\n",
    "class CustomLIF(AbstractProcess):\n",
    "    \"\"\"Leaky-Integrate-and-Fire (LIF) neural Process.\n",
    "\n",
    "    LIF dynamics abstracts to:\n",
    "    u[t] = u[t-1] * (1-du) + a_in                              # neuron current\n",
    "    v[t] = v[t-1] * (1-dv) + u[t] + bias_mant * 2 ** bias_exp  # neuron voltage\n",
    "    s_out = v[t] > vth                                         # spike if threshold is exceeded\n",
    "    v[t] = 0                                                   # reset at spike\n",
    "\n",
    "    Parameters\n",
    "    ----------\n",
    "    du: Inverse of decay time-constant for current decay.\n",
    "    dv: Inverse of decay time-constant for voltage decay.\n",
    "    bias_mant: Mantissa part of neuron bias.\n",
    "    bias_exp: Exponent part of neuron bias, if needed. Mostly for fixed point\n",
    "              implementations. Unnecessary for floating point\n",
    "              implementations. If specified, bias = bias_mant * 2**bias_exp.\n",
    "    vth: Neuron threshold voltage, exceeding which, the neuron will spike.\n",
    "    \"\"\"\n",
    "    def __init__(self, **kwargs):\n",
    "        super().__init__()\n",
    "        shape = kwargs.get(\"shape\", (1,))\n",
    "        du = kwargs.pop(\"du\", 0)\n",
    "        dv = kwargs.pop(\"dv\", 0)\n",
    "        bias_mant = kwargs.pop(\"bias_mant\", 0)\n",
    "        bias_exp = kwargs.pop(\"bias_exp\", 0)\n",
    "        vth = kwargs.pop(\"vth\", 10)\n",
    "\n",
    "        self.shape = shape\n",
    "        self.a_in = InPort(shape=shape)\n",
    "        self.s_out = OutPort(shape=shape)\n",
    "        self.u = Var(shape=shape, init=0)\n",
    "        self.v = Var(shape=shape, init=0)\n",
    "        self.du = Var(shape=(1,), init=du)\n",
    "        self.dv = Var(shape=(1,), init=dv)\n",
    "        self.bias_mant = Var(shape=shape, init=bias_mant)\n",
    "        self.bias_exp = Var(shape=shape, init=bias_exp)\n",
    "        self.vth = Var(shape=(1,), init=vth)"
   ]
  },
  {
   "cell_type": "markdown",
   "id": "6258913b",
   "metadata": {},
   "source": [
    "... and continue with the floating-point ProcessModel ..."
   ]
  },
  {
   "cell_type": "code",
   "execution_count": 12,
   "id": "e39c9618",
   "metadata": {},
   "outputs": [],
   "source": [
    "import numpy as np\n",
    "from lava.magma.core.sync.protocols.loihi_protocol import LoihiProtocol\n",
    "from lava.magma.core.model.py.ports import PyInPort, PyOutPort\n",
    "from lava.magma.core.model.py.type import LavaPyType\n",
    "from lava.magma.core.model.precision import Precision\n",
    "from lava.magma.core.resources import CPU\n",
    "from lava.magma.core.decorator import implements, requires, tag\n",
    "from lava.magma.core.model.py.model import PyLoihiProcessModel\n",
    "\n",
    "@implements(proc=CustomLIF, protocol=LoihiProtocol)\n",
    "@requires(CPU)\n",
    "@tag('floating_pt')\n",
    "class PyLifModelFloat(PyLoihiProcessModel):\n",
    "    a_in: PyInPort = LavaPyType(PyInPort.VEC_DENSE, float)\n",
    "    s_out: PyOutPort = LavaPyType(PyOutPort.VEC_DENSE, bool, precision=1)\n",
    "    u: np.ndarray = LavaPyType(np.ndarray, float)\n",
    "    v: np.ndarray = LavaPyType(np.ndarray, float)\n",
    "    bias_mant: np.ndarray = LavaPyType(np.ndarray, float)\n",
    "    bias_exp: np.ndarray = LavaPyType(np.ndarray, float)\n",
    "    du: float = LavaPyType(float, float)\n",
    "    dv: float = LavaPyType(float, float)\n",
    "    vth: float = LavaPyType(float, float)\n",
    "\n",
    "    def run_spk(self):\n",
    "        a_in_data = self.a_in.recv()\n",
    "        self.u[:] = self.u * (1 - self.du)\n",
    "        self.u[:] += a_in_data\n",
    "        bias = self.bias_mant * (2 ** self.bias_exp)\n",
    "        self.v[:] = self.v * (1 - self.dv) + self.u + bias\n",
    "        s_out = self.v >= self.vth\n",
    "        self.v[s_out] = 0  # Reset voltage to 0.\n",
    "        self.s_out.send(s_out)"
   ]
  },
  {
   "cell_type": "markdown",
   "id": "38838b39",
   "metadata": {},
   "source": [
    "... as well as the fixed-point ProcessModel.<br>\n",
    "In the fixed-point model we need to specify the data needed for conversion. This is conveyed in the LavaPyType.<br>\n",
    "The following arguments are needed:\n",
    "* **precision** - specifies the precision of the fixed-point representation communicated via a `Precision` data class which has members:  \n",
    "    * `is_signed` - bool indicating if representation is signed or unsigned\n",
    "    * `num_bits` - number of bits of the fixed-point representation\n",
    "    * `implicit_shift` - realigning of significant point of variables in fixed-point representation by multiplication of $2^{\\mathrm{implicit shift}}$\n",
    "* **scale_domain** - set *scale domain* (see above). Default is `0`, i.e., the global scale domain.\n",
    "* **constant** - bool indicating whether the variable is constant, i.e., does not change during execution. Default is `False`.\n",
    "* **meta_parameter** - bool indicating whether a variable needs to be converted, e.g., parameters setting a mode. Default is `False`.\n",
    "* **num_bits_exp** - int indicating how many bits are available for exponent if variable representations are split into mantissa and exponent: $v_{mant} \\cdot 2 ^ {v_{exp}}$. Default is `None`.\n",
    "* **exp_var** - name of variable storing the exponent of above split representation. Default is `None`."
   ]
  },
  {
   "cell_type": "code",
   "execution_count": 13,
   "id": "999421d8",
   "metadata": {},
   "outputs": [],
   "source": [
    "@implements(proc=CustomLIF, protocol=LoihiProtocol)\n",
    "@requires(CPU)\n",
    "@tag('fixed_pt')\n",
    "class PyLifModelFixed(PyLoihiProcessModel):\n",
    "    a_in: PyInPort = LavaPyType(PyInPort.VEC_DENSE, np.int64,\n",
    "                                precision=Precision(is_signed=True,\n",
    "                                                    num_bits=16,\n",
    "                                                    implicit_shift=6))\n",
    "    s_out: PyOutPort = LavaPyType(PyOutPort.VEC_DENSE, bool,\n",
    "                                  precision=Precision(is_signed=False,\n",
    "                                                      num_bits=1,\n",
    "                                                      implicit_shift=0))\n",
    "    u: np.ndarray = LavaPyType(np.ndarray, np.int64,\n",
    "                               precision=Precision(is_signed=True,\n",
    "                                                   num_bits=24,\n",
    "                                                   implicit_shift=0))\n",
    "    v: np.ndarray = LavaPyType(np.ndarray, np.int64,\n",
    "                               precision=Precision(is_signed=True,\n",
    "                                                   num_bits=24,\n",
    "                                                   implicit_shift=0))\n",
    "    bias_mant: np.ndarray = LavaPyType(np.ndarray, np.int64, constant=True,\n",
    "                                       precision=Precision(is_signed=True,\n",
    "                                                           num_bits=13,\n",
    "                                                           implicit_shift=0),\n",
    "                                       num_bits_exp=3, exp_var='bias_exp')\n",
    "    bias_exp: np.ndarray = LavaPyType(np.ndarray, np.int64, meta_parameter=True)\n",
    "    du: int = LavaPyType(int, np.uint64, precision=Precision(is_signed=False,\n",
    "                                                             num_bits=12,\n",
    "                                                             implicit_shift=0), \n",
    "                         scale_domain=1, domain=np.array([0,1]), constant=True)\n",
    "    dv: int = LavaPyType(int, np.uint64, precision=Precision(is_signed=False,\n",
    "                                                             num_bits=12,\n",
    "                                                             implicit_shift=0),\n",
    "                         scale_domain=1, domain=np.array([0,1]), constant=True)\n",
    "    vth: int = LavaPyType(int, np.int64, constant=True,\n",
    "                          precision=Precision(is_signed=False,\n",
    "                                              num_bits=17,\n",
    "                                              implicit_shift=6))\n",
    "        \n",
    "    a_in_shift: int = 6\n",
    "    v_th_shift: int = 6\n",
    "\n",
    "    def run_spk(self):\n",
    "        a_in_data = np.left_shift(self.a_in.recv(), self.a_in_shift) # Apply implicit shift.\n",
    "        # Application of decay happens on own scale domain.\n",
    "        self.u[:] = np.right_shift(self.u * (2 ** 12 - self.du), 12)\n",
    "        self.u[:] += a_in_data\n",
    "        bias = self.bias_mant * (2 ** self.bias_exp)\n",
    "        # Application of decay happens on own scale domain, same as du.\n",
    "        self.v[:] = np.right_shift(self.v * (2 ** 12 - self.dv), 12)\n",
    "        self.v[:] += self.u + bias\n",
    "        s_out = self.v >= np.left_shift(self.vth, self.v_th_shift) # Apply implicit shift to vth.\n",
    "        self.v[s_out] = 0  \n",
    "        self.s_out.send(s_out)"
   ]
  },
  {
   "cell_type": "markdown",
   "id": "83d039e2",
   "metadata": {},
   "source": [
    "Next, we instantiate a `CustomLIF` Process that we want to be convert."
   ]
  },
  {
   "cell_type": "code",
   "execution_count": 14,
   "id": "2b8d3f2c",
   "metadata": {},
   "outputs": [],
   "source": [
    "# Define the parameters for the floating-point ProcessModels.\n",
    "lif_params = {\n",
    "    'shape': (1,),\n",
    "    'du': 0.1,\n",
    "    'dv': 0.1,\n",
    "    'bias_mant': 0.102,\n",
    "    'vth': 1,\n",
    "}\n",
    "\n",
    "lif_conv = CustomLIF(**lif_params)"
   ]
  },
  {
   "cell_type": "code",
   "execution_count": 15,
   "id": "3ba1d90e",
   "metadata": {},
   "outputs": [],
   "source": [
    "# Convert the parameters.\n",
    "converter = Float2FixedConverter()\n",
    "converter.set_run_cfg(fixed_pt_rcfg=Loihi1SimCfg(select_tag='fixed_pt'),\n",
    "                      floating_pt_rcfg=Loihi1SimCfg(select_tag='floating_pt'))\n",
    "converter.convert(lif_conv, num_steps=200)"
   ]
  },
  {
   "cell_type": "code",
   "execution_count": 16,
   "id": "ab22bbe4",
   "metadata": {},
   "outputs": [
    {
     "data": {
      "text/plain": [
       "{22: {'bias_exp': 7,\n",
       "  'bias_mant': 4095,\n",
       "  'u': 0,\n",
       "  'vth': 80294,\n",
       "  'v': 0,\n",
       "  'du': 410,\n",
       "  'dv': 410}}"
      ]
     },
     "execution_count": 16,
     "metadata": {},
     "output_type": "execute_result"
    }
   ],
   "source": [
    "# Define scaling function and inspect the mapped parameters.\n",
    "inv_scaling_fct = lambda x: x / converter.scaling_factors[0]\n",
    "\n",
    "converter.scaled_params"
   ]
  },
  {
   "cell_type": "markdown",
   "id": "2d61fb43",
   "metadata": {},
   "source": [
    "Finally, we again assess the floating- to fixed-point conversion. <br>\n",
    "First the floating-point ..."
   ]
  },
  {
   "cell_type": "code",
   "execution_count": 17,
   "id": "c08a76a1",
   "metadata": {},
   "outputs": [],
   "source": [
    "lif = CustomLIF(**lif_params)\n",
    "\n",
    "monitor_float_u = Monitor()\n",
    "monitor_float_v = Monitor()\n",
    "\n",
    "monitor_float_u.probe(target=lif.u, num_steps=200)\n",
    "monitor_float_v.probe(target=lif.v, num_steps=200)\n",
    "\n",
    "lif.run(condition=run_cond, run_cfg=Loihi1SimCfg(select_tag='floating_pt'))\n",
    "\n",
    "data_float_u = monitor_float_u.get_data()[lif.name][lif.u.name]\n",
    "data_float_v = monitor_float_v.get_data()[lif.name][lif.v.name]\n",
    "\n",
    "\n",
    "lif.stop()"
   ]
  },
  {
   "cell_type": "markdown",
   "id": "ebc30209",
   "metadata": {},
   "source": [
    "... and then the fixed-point model."
   ]
  },
  {
   "cell_type": "code",
   "execution_count": 18,
   "id": "18b65f3a",
   "metadata": {},
   "outputs": [],
   "source": [
    "lif = CustomLIF(**converter.scaled_params[lif_conv.id])\n",
    "\n",
    "monitor_fixed_u = Monitor()\n",
    "monitor_fixed_v = Monitor()\n",
    "\n",
    "monitor_fixed_u.probe(target=lif.u, num_steps=200)\n",
    "monitor_fixed_v.probe(target=lif.v, num_steps=200)\n",
    "\n",
    "lif.run(condition=run_cond, run_cfg=Loihi1SimCfg(select_tag='fixed_pt'))\n",
    "\n",
    "data_fixed_u = monitor_fixed_u.get_data()[lif.name][lif.u.name]\n",
    "data_fixed_v = monitor_fixed_v.get_data()[lif.name][lif.v.name]\n",
    "\n",
    "\n",
    "lif.stop()"
   ]
  },
  {
   "cell_type": "code",
   "execution_count": 19,
   "id": "f77f9f12",
   "metadata": {},
   "outputs": [
    {
     "data": {
      "image/png": "[encoded data removed]",
      "text/plain": [
       "<Figure size 1080x360 with 2 Axes>"
      ]
     },
     "metadata": {
      "needs_background": "light"
     },
     "output_type": "display_data"
    }
   ],
   "source": [
    "f, (ax1, ax2) = plt.subplots(1, 2, figsize=(15,5))\n",
    "ax1.set_title('u')\n",
    "ax1.plot(data_float_u, label='floating pt')\n",
    "ax1.plot(inv_scaling_fct(data_fixed_u), label='fixed pt')\n",
    "\n",
    "ax2.set_title('v')\n",
    "ax2.plot(data_float_v, label='floating pt')\n",
    "ax2.plot(inv_scaling_fct(data_fixed_v), label='fixed pt')\n",
    "\n",
    "plt.legend()\n",
    "plt.show()"
   ]
  }
 ],
 "metadata": {
  "kernelspec": {
   "display_name": "Python 3 (ipykernel)",
   "language": "python",
   "name": "python3"
  },
  "language_info": {
   "codemirror_mode": {
    "name": "ipython",
    "version": 3
   },
   "file_extension": ".py",
   "mimetype": "text/x-python",
   "name": "python",
   "nbconvert_exporter": "python",
   "pygments_lexer": "ipython3",
   "version": "3.8.10"
  }
 },
 "nbformat": 4,
 "nbformat_minor": 5
}
