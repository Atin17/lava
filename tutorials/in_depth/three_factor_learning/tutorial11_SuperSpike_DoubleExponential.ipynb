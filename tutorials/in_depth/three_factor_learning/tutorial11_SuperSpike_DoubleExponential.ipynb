{
 "cells": [
  {
   "cell_type": "markdown",
   "metadata": {},
   "source": [
    "### SuperSpike \n",
    "\n",
    "This tutorial implements the SuperSpike learning rule with a simple network prototype with one pre-synaptic neuron and one post-synaptic neuron. The Lava Process Architecture is as shown below:"
   ]
  },
  {
   "cell_type": "markdown",
   "metadata": {},
   "source": [
    "![SuperSpike_Architecture](SuperSpike_architecture.svg)"
   ]
  },
  {
   "cell_type": "code",
   "execution_count": 1,
   "metadata": {},
   "outputs": [],
   "source": [
    "import numpy as np\n",
    "import time as timing\n",
    "\n",
    "from lava.proc.lif.process import LIF\n",
    "from lava.proc.io.source import RingBuffer as SpikeIn\n",
    "from lava.magma.core.learning.learning_rule import LoihiLearningRule\n",
    "from lava.proc.dense.process import LearningDense, Dense\n",
    "from lava.magma.core.run_conditions import RunSteps\n",
    "from lava.magma.core.run_configs import Loihi2SimCfg"
   ]
  },
  {
   "cell_type": "markdown",
   "metadata": {},
   "source": [
    "#### Importing the SuperSpike Learning Rule Wrapper"
   ]
  },
  {
   "cell_type": "markdown",
   "metadata": {},
   "source": [
    "![SuperSpike](SuperSpike_learning_rule.svg)"
   ]
  },
  {
   "cell_type": "code",
   "execution_count": null,
   "metadata": {},
   "outputs": [],
   "source": [
    "from lava.proc.learning_rules.SuperSpike_learning_rule import DoubleExponentialSuperSpikeLoihi\n",
    "\n",
    "SuperSpike = DoubleExponentialSuperSpikeLoihi(learning_rate=0.000001,\n",
    "                                              pre_synaptic_decay_tau=10,\n",
    "                                              pre_synaptic_rise_tau=5,\n",
    "                                              eligibility_trace_decay_tau=0.19,\n",
    "                                              eligibility_trace_rise_tau=0.1,\n",
    "                                              t_epoch=1\n",
    "                                              )"
   ]
  },
  {
   "cell_type": "markdown",
   "metadata": {},
   "source": [
    "#### Setting Simulation Parameters and Creating Input Spikes"
   ]
  },
  {
   "cell_type": "code",
   "execution_count": null,
   "metadata": {},
   "outputs": [],
   "source": [
    "SELECT_TAG = \"floating_pt\""
   ]
  },
  {
   "cell_type": "code",
   "execution_count": null,
   "metadata": {},
   "outputs": [],
   "source": [
    "# General Params\n",
    "num_rounds = 100\n",
    "num_steps_single_presentation = 100\n",
    "num_steps = num_rounds * num_steps_single_presentation"
   ]
  },
  {
   "cell_type": "code",
   "execution_count": null,
   "metadata": {},
   "outputs": [],
   "source": [
    "# ============================================================================================================\n",
    "# PARAMS\n",
    "# ============================================================================================================\n",
    "# Neural Params\n",
    "num_neurons_pre = 1\n",
    "shape_lif_pre = (num_neurons_pre, )\n",
    "du_pre = 1\n",
    "dv_pre = 1\n",
    "vth_pre = 0.99\n",
    "\n",
    "num_neurons_post = 1\n",
    "shape_lif_post = (num_neurons_post, )\n",
    "du_post = 0.03\n",
    "dv_post = 0.07\n",
    "vth_post = 1\n",
    "\n",
    "wgt_input_pre = np.eye(num_neurons_pre) * 1\n",
    "\n",
    "shape_pre_post = shape_lif_post + shape_lif_pre\n",
    "wgt_pre_post = np.full(shape_pre_post, 0.15)\n",
    "\n",
    "wgt_reward_post = np.eye(num_neurons_post) * 1\n",
    "\n",
    "np.random.seed(1523)\n",
    "spike_prob = 0.03\n",
    "spike_raster_pre = np.zeros((num_neurons_pre, num_steps_single_presentation), dtype=int)\n",
    "\n",
    "#np.place(spike_raster_pre, np.random.rand(num_neurons_pre, num_steps_single_presentation) < spike_prob, 1)\n",
    "spike_raster_pre[0, 40] = 1\n",
    "\n",
    "spike_times_post_target = [54] \n",
    "spikes_raster_post_target = np.zeros((num_neurons_post, num_steps_single_presentation), dtype=int)\n",
    "spikes_raster_post_target[0, spike_times_post_target] = 1\n",
    "# ============================================================================================================\n",
    "# ============================================================================================================"
   ]
  },
  {
   "cell_type": "markdown",
   "metadata": {},
   "source": [
    "#### Creating a LearningDenseProbe for Measuring Trace Dynamics\n",
    "\n",
    "_NOTE : This is workaround for simulation taking too long while using Monitor's_"
   ]
  },
  {
   "cell_type": "code",
   "execution_count": null,
   "metadata": {},
   "outputs": [],
   "source": [
    "from utils_SuperSpike import LearningDenseProbe, PyLearningDenseProbeModelFloat, SuperSpikeLIF, PySuperSpikeLifModelFloat"
   ]
  },
  {
   "cell_type": "markdown",
   "metadata": {},
   "source": [
    "#### Lava Process Architecture\n",
    "\n",
    "One pre-synaptic neuron is connected to one post-synaptic neuron. One plastic synapse is update via the 'SuperSpike' learning rule."
   ]
  },
  {
   "cell_type": "code",
   "execution_count": null,
   "metadata": {},
   "outputs": [],
   "source": [
    "# Create input devices\n",
    "pattern_pre = SpikeIn(data=spike_raster_pre)\n",
    "\n",
    "# Create error signal input device\n",
    "reward_pattern_post = SpikeIn(data=spikes_raster_post_target)\n",
    "\n",
    "# Create input connectivity\n",
    "conn_inp_pre = Dense(weights=wgt_input_pre)\n",
    "conn_inp_reward = Dense(weights=wgt_reward_post)\n",
    "\n",
    "# Create pre-synaptic neurons\n",
    "lif_pre = LIF(u=0,\n",
    "              v=0,\n",
    "              du=du_pre,\n",
    "              dv=dv_pre,\n",
    "              bias_mant=0,\n",
    "              bias_exp=0,\n",
    "              vth=vth_pre,\n",
    "              shape=shape_lif_pre,\n",
    "              name='lif_pre')\n",
    "\n",
    "# Create plastic connection\n",
    "plast_conn = LearningDenseProbe(weights=wgt_pre_post,\n",
    "                   learning_rule=SuperSpike,\n",
    "                   name='plastic_dense')\n",
    "\n",
    "# Create post-synaptic neuron\n",
    "lif_post = SuperSpikeLIF(u=0,\n",
    "               v=0,\n",
    "               du=du_post,\n",
    "               dv=dv_post,\n",
    "               bias_mant=0,\n",
    "               bias_exp=0,\n",
    "               vth=vth_post,\n",
    "               shape=shape_lif_post,\n",
    "               learning_rule=SuperSpike,\n",
    "               name='lif_post')\n",
    "\n",
    "# Connect network\n",
    "pattern_pre.s_out.connect(conn_inp_pre.s_in)\n",
    "conn_inp_pre.a_out.connect(lif_pre.a_in)\n",
    "\n",
    "# Reward ports\n",
    "reward_pattern_post.s_out.connect(conn_inp_reward.s_in)\n",
    "conn_inp_reward.a_out.connect(lif_post.a_third_factor_in)\n",
    "\n",
    "lif_pre.s_out.connect(plast_conn.s_in)\n",
    "plast_conn.a_out.connect(lif_post.a_in)\n",
    "\n",
    "# Connect back-propagating action potential (BAP)\n",
    "lif_post.s_out_bap.connect(plast_conn.s_in_bap)\n",
    "\n",
    "# Connect reward trace callback (y2, y3)\n",
    "lif_post.s_out_y1.connect(plast_conn.s_in_y1)\n",
    "lif_post.s_out_y2.connect(plast_conn.s_in_y2)\n",
    "lif_post.s_out_y3.connect(plast_conn.s_in_y3)"
   ]
  },
  {
   "cell_type": "markdown",
   "metadata": {},
   "source": [
    "#### Custom Monitor Process and ProcessModel to Measure Trace State."
   ]
  },
  {
   "cell_type": "code",
   "execution_count": null,
   "metadata": {},
   "outputs": [],
   "source": [
    "from utils_SuperSpike import MyMonitor, MyMonitorPM"
   ]
  },
  {
   "cell_type": "code",
   "execution_count": null,
   "metadata": {},
   "outputs": [],
   "source": [
    "monitor = MyMonitor(shape_pre=shape_lif_pre, \n",
    "                    shape_post=shape_lif_post, \n",
    "                    shape_learning_dense=shape_lif_post+shape_lif_pre, \n",
    "                    buffer_size=num_steps)\n",
    "\n",
    "lif_pre.s_out.connect(monitor.pre_spikes_port)\n",
    "lif_post.s_out.connect(monitor.post_spikes_port)\n",
    "#lif_post.v_port.connect(monitor.lif_mem_voltage_port)\n",
    "\n",
    "plast_conn.x1_port.connect(monitor.learning_dense_x1_port)\n",
    "plast_conn.x2_port.connect(monitor.learning_dense_x2_port)\n",
    "plast_conn.y2_port.connect(monitor.learning_dense_y2_port)\n",
    "plast_conn.y3_port.connect(monitor.learning_dense_y3_port)\n",
    "plast_conn.weights_port.connect(monitor.learning_dense_weights_port)\n",
    "plast_conn.tag_1_port.connect(monitor.learning_dense_tag_1_port)\n",
    "plast_conn.tag_2_port.connect(monitor.learning_dense_tag_2_port)"
   ]
  },
  {
   "cell_type": "code",
   "execution_count": null,
   "metadata": {},
   "outputs": [],
   "source": [
    "pattern_pre.run(condition=RunSteps(num_steps=num_steps), run_cfg=Loihi2SimCfg(select_tag=SELECT_TAG))"
   ]
  },
  {
   "cell_type": "code",
   "execution_count": null,
   "metadata": {},
   "outputs": [],
   "source": [
    "# Get data from monitors\n",
    "pre_spikes = monitor.pre_spikes.get()[0][:, np.newaxis]\n",
    "\n",
    "post_spikes = monitor.post_spikes.get()[0][:, np.newaxis]\n",
    "\n",
    "pre_trace_decay = monitor.learning_dense_x1.get()[0][:, np.newaxis]\n",
    "pre_trace_rise = monitor.learning_dense_x2.get()[0][:, np.newaxis]\n",
    "y2_ = monitor.learning_dense_y2.get()[0][:, np.newaxis]\n",
    "y3_ = monitor.learning_dense_y3.get()[0][:, np.newaxis]\n",
    "weights = monitor.learning_dense_weights.get()[0, 0][:, np.newaxis]\n",
    "tag = monitor.learning_dense_tag_1.get()[0, 0][:, np.newaxis]\n",
    "delay = monitor.learning_dense_tag_2.get()[0, 0][:, np.newaxis]"
   ]
  },
  {
   "cell_type": "code",
   "execution_count": null,
   "metadata": {},
   "outputs": [],
   "source": [
    "pattern_pre.stop()"
   ]
  },
  {
   "cell_type": "markdown",
   "metadata": {},
   "source": [
    "#### Results and Plotting"
   ]
  },
  {
   "cell_type": "code",
   "execution_count": null,
   "metadata": {},
   "outputs": [],
   "source": [
    "from utils_SuperSpike import plot_spikes, plot_time_series, plot_time_series_combo, plot_spikes_shorter"
   ]
  },
  {
   "cell_type": "code",
   "execution_count": null,
   "metadata": {},
   "outputs": [],
   "source": [
    "time = range(1, num_steps +1 )\n",
    "\n",
    "# Plot spikes\n",
    "plot_spikes(spikes=[np.where(pre_spikes[:, 0])[0]], \n",
    "            legend=['Pre'], \n",
    "            colors=['blue'])\n",
    "\n",
    "\n",
    "# Plot spikes\n",
    "plot_spikes(spikes=[np.where(np.tile(spikes_raster_post_target[0], num_rounds))[0], np.where(post_spikes[:, 0])[0]], \n",
    "            legend=['Post (T)', 'Post'], \n",
    "            colors=[\"maroon\", 'blue'])"
   ]
  },
  {
   "cell_type": "code",
   "execution_count": null,
   "metadata": {},
   "outputs": [],
   "source": [
    "print(\"Difference of Exponential (x1-x2)\")\n",
    "x1_minus_x2 = pre_trace_decay - pre_trace_rise\n",
    "plot_time_series(time=time[starting:ending], \n",
    "                 time_series=x1_minus_x2[starting:ending], \n",
    "                 ylabel=\"Trace value\", \n",
    "                 title=\"Pre-synaptic Trace x1-x2 Dynamics\", \n",
    "                 figsize=(22, 2), \n",
    "                 color='indianred')\n",
    "\n",
    "plot_time_series(time=time, \n",
    "                 time_series=y2_, \n",
    "                 ylabel=\"Trace value\", \n",
    "                 title=\"Error Signal trace (y2)\", \n",
    "                 figsize=(22, 2), \n",
    "                 color='forestgreen')\n",
    "\n",
    "plot_time_series(time=time, \n",
    "                 time_series=y3_, \n",
    "                 ylabel=\"Trace value\", \n",
    "                 title=\"Membrane Potential trace (y3) (full trace)\", \n",
    "                 figsize=(22, 2), \n",
    "                 color='royalblue')\n",
    "\n",
    "plot_time_series(time=time, \n",
    "                 time_series=delay, \n",
    "                 ylabel=\"Delay value\", \n",
    "                 title=\"Delay (full trace)\", \n",
    "                 figsize=(22, 2), \n",
    "                 color='olive')\n",
    "\n",
    "plot_time_series(time=time, \n",
    "                 time_series=tag, \n",
    "                 ylabel=\"Tag value\", \n",
    "                 title=\"Tag (full trace)\", \n",
    "                 figsize=(22, 2), \n",
    "                 color='darkorange')"
   ]
  },
  {
   "cell_type": "code",
   "execution_count": null,
   "metadata": {},
   "outputs": [],
   "source": [
    "plot_time_series(time=time, \n",
    "                 time_series=weights, \n",
    "                 ylabel=\"Weight value\", \n",
    "                 title=\"Weight A (full trace)\", \n",
    "                 figsize=(22, 2), \n",
    "                 color='peru')\n",
    "\n",
    "plot_time_series(time=time[(num_steps-1000):num_steps], \n",
    "                 time_series=weights[starting:ending], \n",
    "                 ylabel=\"Weight value\", \n",
    "                 title=\"Weight\", \n",
    "                 figsize=(22, 2), \n",
    "                 color='peru')\n",
    "\n",
    "print(np.where(post_spikes[:, 0])[0])\n",
    "print(np.where(np.tile(spikes_raster_post_target[0], num_rounds))[0])\n",
    "print(weights[num_steps-1])"
   ]
  },
  {
   "cell_type": "code",
   "execution_count": null,
   "metadata": {},
   "outputs": [],
   "source": [
    "# starting and ending time steps\n",
    "# for targeted plotting\n",
    "starting = num_steps - 1000\n",
    "ending = num_steps"
   ]
  },
  {
   "cell_type": "code",
   "execution_count": null,
   "metadata": {},
   "outputs": [],
   "source": [
    "pre_spikes_output = []\n",
    "pre_spike_output_range = np.where(pre_spikes_neuronA[:, 0])[0]\n",
    "for po in pre_spike_output_range:\n",
    "    if po in range(starting, ending+1):\n",
    "        pre_spikes_output.append(po)\n",
    "\n",
    "post_spikes_output = []\n",
    "post_spike_output_range = np.where(post_spikes[:, 0])[0]\n",
    "for po in post_spike_output_range:\n",
    "    if po in range(starting, ending+1):\n",
    "        post_spikes_output.append(po)\n",
    "\n",
    "target_spike = []\n",
    "target_spike_output = np.where(np.tile(spikes_raster_post_target[0], num_rounds))[0]\n",
    "for to in target_spike_output:\n",
    "    if to in range(starting, ending+1):\n",
    "        target_spike.append(to)\n",
    "        \n",
    "print(\"POST SPIKE TIMES   : \", post_spikes_output)\n",
    "print(\"TARGET SPIKE TIMES : \", target_spike, \"\\n\")\n",
    "\n",
    "# Plot spikes\n",
    "print(\"POST SPIKING WINDOW :\", starting, \" to \", ending)\n",
    "plot_spikes(spikes=[np.where(np.tile(spikes_raster_post_target[0], int(len(target_spike))))[0], np.where(post_spikes[starting:ending, 0])[0]], \n",
    "            legend=['Post (T)', 'Post'], \n",
    "            colors=[\"maroon\", 'blue'],\n",
    "            )"
   ]
  },
  {
   "cell_type": "code",
   "execution_count": null,
   "metadata": {},
   "outputs": [],
   "source": [
    "x1_minus_x2 = pre_trace_decay - pre_trace_rise\n",
    "plot_time_series(time=time[starting:ending], \n",
    "                 time_series=x1_minus_x2[starting:ending], \n",
    "                 ylabel=\"Trace value\", \n",
    "                 title=\"Pre-synaptic Trace x1-x2 Dynamics\", \n",
    "                 figsize=(22, 2), \n",
    "                 color='indianred')\n",
    "\n",
    "plot_time_series_combo(time=time[starting:ending], \n",
    "                       time_series=y2_[starting:ending], \n",
    "                       ylabel=\"Trace value\", \n",
    "                       title=\"Error Signal trace (y2)\", \n",
    "                       figsize=(22, 2), \n",
    "                       colors=['forestgreen','red', 'black'],\n",
    "                       spikes=post_spikes_output,\n",
    "                       spikes_target=target_spike,\n",
    "                       target=True\n",
    "                       )\n",
    "\n",
    "plot_time_series(time=time[starting:ending], \n",
    "                 time_series=tag[starting:ending], \n",
    "                 ylabel=\"Tag value\", \n",
    "                 title=\"Tag\", \n",
    "                 figsize=(22, 2), \n",
    "                 color='darkorange')\n",
    "                 \n",
    "plot_time_series(time=time[starting:ending], \n",
    "                 time_series=delay[starting:ending], \n",
    "                 ylabel=\"Delay value\", \n",
    "                 title=\"Delay\", \n",
    "                 figsize=(22, 2), \n",
    "                 color='olive')\n",
    "\n",
    "plot_time_series(time=time[starting:ending], \n",
    "                 time_series=weights[starting:ending], \n",
    "                 ylabel=\"Weight value\", \n",
    "                 title=\"Weight\", \n",
    "                 figsize=(22, 2), \n",
    "                 color='peru')"
   ]
  },
  {
   "cell_type": "code",
   "execution_count": null,
   "metadata": {},
   "outputs": [],
   "source": [
    "plot_time_series(time=time, \n",
    "                 time_series=y3_, \n",
    "                 ylabel=\"Trace value\", \n",
    "                 title=\"Membrane Potential trace (y3) (full trace)\", \n",
    "                 figsize=(22, 2), \n",
    "                 color='royalblue')\n",
    "\n",
    "plot_time_series_combo(time=time[starting:ending], \n",
    "                       time_series=y3_[starting:ending], \n",
    "                       ylabel=\"Trace value\", \n",
    "                       title=\"Membrane Potential trace (y3)\", \n",
    "                       figsize=(22, 2), \n",
    "                       colors=['royalblue','red', 'black'],\n",
    "                       spikes=post_spikes_output,\n",
    "                       spikes_target=target_spike,\n",
    "                       target=True\n",
    "                       )"
   ]
  },
  {
   "cell_type": "code",
   "execution_count": null,
   "metadata": {},
   "outputs": [],
   "source": [
    "plot_time_series(time=time, \n",
    "                 time_series=tag, \n",
    "                 ylabel=\"Tag value\", \n",
    "                 title=\"Tag (full trace)\", \n",
    "                 figsize=(22, 2), \n",
    "                 color='darkorange')\n",
    "\n",
    "plot_time_series(time=time[starting:ending], \n",
    "                 time_series=tag[starting:ending], \n",
    "                 ylabel=\"Tag value\", \n",
    "                 title=\"Tag\", \n",
    "                 figsize=(22, 2), \n",
    "                 color='darkorange')\n"
   ]
  },
  {
   "cell_type": "code",
   "execution_count": null,
   "metadata": {},
   "outputs": [],
   "source": [
    "plot_time_series(time=time, \n",
    "                 time_series=delay, \n",
    "                 ylabel=\"Delay value\", \n",
    "                 title=\"Delay (full trace)\", \n",
    "                 figsize=(22, 2), \n",
    "                 color='olive')\n",
    "\n",
    "plot_time_series(time=time[starting:ending], \n",
    "                 time_series=delay[starting:ending], \n",
    "                 ylabel=\"Delay value\", \n",
    "                 title=\"Delay\", \n",
    "                 figsize=(22, 2), \n",
    "                 color='olive')"
   ]
  },
  {
   "cell_type": "code",
   "execution_count": null,
   "metadata": {},
   "outputs": [],
   "source": [
    "plot_time_series(time=time, \n",
    "                 time_series=weights, \n",
    "                 ylabel=\"Weight value\", \n",
    "                 title=\"Weight A (full trace)\", \n",
    "                 figsize=(22, 2), \n",
    "                 color='peru')\n",
    "\n",
    "plot_time_series(time=time[starting:ending], \n",
    "                 time_series=weights[starting:ending], \n",
    "                 ylabel=\"Weight value\", \n",
    "                 title=\"Weight\", \n",
    "                 figsize=(22, 2), \n",
    "                 color='peru')"
   ]
  }
 ],
 "metadata": {
  "kernelspec": {
   "display_name": "Python 3.8.10 ('.venv': poetry)",
   "language": "python",
   "name": "python3"
  },
  "language_info": {
   "codemirror_mode": {
    "name": "ipython",
    "version": 3
   },
   "file_extension": ".py",
   "mimetype": "text/x-python",
   "name": "python",
   "nbconvert_exporter": "python",
   "pygments_lexer": "ipython3",
   "version": "3.8.10 (default, Jun 22 2022, 20:18:18) \n[GCC 9.4.0]"
  },
  "orig_nbformat": 4,
  "vscode": {
   "interpreter": {
    "hash": "adaac2fd6fcd86ccecf37a646988a7a33da53e5b6c7446bb18fec9222bbb1862"
   }
  }
 },
 "nbformat": 4,
 "nbformat_minor": 2
}
